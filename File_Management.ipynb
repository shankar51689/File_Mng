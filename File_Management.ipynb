{
 "cells": [
  {
   "cell_type": "code",
   "execution_count": 28,
   "metadata": {},
   "outputs": [
    {
     "name": "stdout",
     "output_type": "stream",
     "text": [
      "Files is already maintained :)\n"
     ]
    }
   ],
   "source": [
    "import os,shutil\n",
    "\n",
    "\n",
    "folders={\n",
    "    'Audios':['.3gp','.m4a','.m4b','.m4p','.mp3','.au'],\n",
    "    'Documents':['.txt','.doc','.docx','.html','.htm','.otd','.pdf','.xls','.xlsx','.ppt','.pptx','.rar'],\n",
    "    'Videos':['.avi','.flv','.wmv','.mov','.mp4','.mkv'],\n",
    "    'Images':['.jpg','.png','.jpeg','.gif','.eps','.raw','.cr2','.nef','.orf'],\n",
    "    'Python_programes':['.py','.ipynb'],\n",
    "    'Java_programes':['.java']\n",
    "}\n",
    "\n",
    "\n",
    "def move_file(ex,file):\n",
    "    find=False\n",
    "    for folder_name in folders:\n",
    "        if '.'+ex in folders[folder_name]:\n",
    "            if folder_name not in os.listdir(directory):\n",
    "                os.mkdir(os.path.join(directory,folder_name))\n",
    "            shutil.move(os.path.join(directory,file),os.path.join(directory,folder_name))\n",
    "            find=True;\n",
    "            break\n",
    "    if find!=True:\n",
    "        if other_files not in os.listdir(directory):\n",
    "            os.mkdir(os.path.join(directory,other_files))\n",
    "        shutil.move(os.path.join(directory,file),os.path.join(directory,other_files))\n",
    "        \n",
    "        \n",
    "def rename_file():\n",
    "    for folder in folders:\n",
    "        if os.path.isdir(os.path.join(directory,folder))==True:\n",
    "            os.rename(os.path.join(directory,folder),os.path.join(directory,folder.capitalize()))\n",
    "\n",
    "directory='D:\\\\' \n",
    "other_files='Others'\n",
    "rename_file()\n",
    "\n",
    "all_file=os.listdir(directory)\n",
    "length=len(all_file)\n",
    "count=1\n",
    "work=False\n",
    "for i in all_file:\n",
    "    if os.path.isfile(os.path.join(directory,i))==True:\n",
    "        move_file(i.split('.')[-1],i)\n",
    "        print(f\"Total:{length}|Done:->{'|'*count} | Left:->{length-count}\")\n",
    "        count+=1\n",
    "        work=True\n",
    "if work!=True:\n",
    "    print('Files is already maintained :)')\n",
    "else:\n",
    "    print('Done...')     "
   ]
  },
  {
   "cell_type": "code",
   "execution_count": null,
   "metadata": {},
   "outputs": [],
   "source": []
  }
 ],
 "metadata": {
  "kernelspec": {
   "display_name": "Python 3",
   "language": "python",
   "name": "python3"
  },
  "language_info": {
   "codemirror_mode": {
    "name": "ipython",
    "version": 3
   },
   "file_extension": ".py",
   "mimetype": "text/x-python",
   "name": "python",
   "nbconvert_exporter": "python",
   "pygments_lexer": "ipython3",
   "version": "3.7.4"
  }
 },
 "nbformat": 4,
 "nbformat_minor": 4
}
